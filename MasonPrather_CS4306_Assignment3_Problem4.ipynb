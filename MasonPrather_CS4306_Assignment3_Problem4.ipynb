{
  "nbformat": 4,
  "nbformat_minor": 0,
  "metadata": {
    "colab": {
      "provenance": [],
      "authorship_tag": "ABX9TyMOe0z4XBLlxfKoWuI0XJrO",
      "include_colab_link": true
    },
    "kernelspec": {
      "name": "python3",
      "display_name": "Python 3"
    },
    "language_info": {
      "name": "python"
    }
  },
  "cells": [
    {
      "cell_type": "markdown",
      "metadata": {
        "id": "view-in-github",
        "colab_type": "text"
      },
      "source": [
        "<a href=\"https://colab.research.google.com/github/MasonPrather/mdawg1sc00l/blob/main/MasonPrather_CS4306_Assignment3_Problem4.ipynb\" target=\"_parent\"><img src=\"https://colab.research.google.com/assets/colab-badge.svg\" alt=\"Open In Colab\"/></a>"
      ]
    },
    {
      "cell_type": "markdown",
      "source": [
        "Problem 4.\n",
        "Write a Python program to implement Dijkstra’s algorithm greedy paradigm from the singular\n",
        "source A with the minimum path to any other node.\n"
      ],
      "metadata": {
        "id": "gBWYQfIjjKIG"
      }
    },
    {
      "cell_type": "code",
      "source": [
        "# Mason Prather\n",
        "# CS 4306\n",
        "# Assignment 3\n",
        "# Problem 4\n",
        "\n",
        "import heapq\n",
        "\n",
        "def dijkstra(graph, source):\n",
        "\n",
        "    # Dictionary to store the minimum distances from the source to each node\n",
        "    distances = {node: float('infinity') for node in graph}\n",
        "    distances[source] = 0  # Distance from the source to itself is zero\n",
        "\n",
        "    # Priority queue to keep track of nodes and their tentative distances\n",
        "    priority_queue = [(0, source)]\n",
        "\n",
        "    while priority_queue:\n",
        "        current_distance, current_node = heapq.heappop(priority_queue)\n",
        "\n",
        "        # Check if the current distance is smaller than the known distance\n",
        "        if current_distance > distances[current_node]:\n",
        "            continue\n",
        "\n",
        "        # Explore neighbors and update distances\n",
        "        for neighbor, weight in graph[current_node].items():\n",
        "            distance = current_distance + weight\n",
        "\n",
        "            # Update distance if a shorter path is found\n",
        "            if distance < distances[neighbor]:\n",
        "                distances[neighbor] = distance\n",
        "                heapq.heappush(priority_queue, (distance, neighbor))\n",
        "\n",
        "    return distances\n",
        "\n",
        "# Given graph...\n",
        "graph = {\n",
        "    'A': {'C': 3, 'B': 12, 'E': 6},\n",
        "    'B': {'A': 12, 'C': 15, 'D': 5, 'E': 5},\n",
        "    'C': {'A': 3, 'B': 15, 'F': 18},\n",
        "    'D': {'B': 5, 'F': 4, 'H': 19},\n",
        "    'E': {'A': 6, 'B': 5, 'G': 22},\n",
        "    'F': {'C': 18, 'D': 4, 'H': 10},\n",
        "    'G': {'E': 22, 'H': 4},\n",
        "    'H': {'D': 19, 'F': 10, 'G': 4}\n",
        "\n",
        "}\n",
        "\n",
        "source_node = 'A'\n",
        "result_distances = dijkstra(graph, source_node)\n",
        "\n",
        "# Display the result\n",
        "print(f\"Shortest distances from node {source_node}:\")\n",
        "for node, distance in result_distances.items():\n",
        "    print(f\"To {node}: {distance}\")\n"
      ],
      "metadata": {
        "colab": {
          "base_uri": "https://localhost:8080/"
        },
        "id": "UFc3KvG8jI9R",
        "outputId": "9c8af892-3edf-4f39-9e5f-fdf7972e8718"
      },
      "execution_count": null,
      "outputs": [
        {
          "output_type": "stream",
          "name": "stdout",
          "text": [
            "Shortest distances from node A:\n",
            "To A: 0\n",
            "To B: 11\n",
            "To C: 3\n",
            "To D: 16\n",
            "To E: 6\n",
            "To F: 20\n",
            "To G: 28\n",
            "To H: 30\n"
          ]
        }
      ]
    }
  ]
}