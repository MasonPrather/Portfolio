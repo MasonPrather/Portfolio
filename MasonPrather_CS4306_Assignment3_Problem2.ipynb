{
  "nbformat": 4,
  "nbformat_minor": 0,
  "metadata": {
    "colab": {
      "provenance": [],
      "authorship_tag": "ABX9TyPEhladV7hl5pLeuSvr+7rd",
      "include_colab_link": true
    },
    "kernelspec": {
      "name": "python3",
      "display_name": "Python 3"
    },
    "language_info": {
      "name": "python"
    }
  },
  "cells": [
    {
      "cell_type": "markdown",
      "metadata": {
        "id": "view-in-github",
        "colab_type": "text"
      },
      "source": [
        "<a href=\"https://colab.research.google.com/github/MasonPrather/mdawg1sc00l/blob/main/MasonPrather_CS4306_Assignment3_Problem2.ipynb\" target=\"_parent\"><img src=\"https://colab.research.google.com/assets/colab-badge.svg\" alt=\"Open In Colab\"/></a>"
      ]
    },
    {
      "cell_type": "markdown",
      "source": [
        "Problem 2.\n",
        "Apply Greedy technique: write a python program to solve the Graph Coloring Problem with Greedy\n",
        "algorithm design technique.\n",
        "Use only four (4) colors\n",
        "Remember: the four-color theorem states that no more than four colors are required to color the\n",
        "regions of any map so that no two adjacent regions have the same color.\n",
        "Console based output is fine but print the lookup table with states with identical numbers tied\n",
        "to its color. No two adjacent states can have identical colors."
      ],
      "metadata": {
        "id": "XQgvR1D_W6Jv"
      }
    },
    {
      "cell_type": "code",
      "source": [
        "# Mason Prather\n",
        "# CS 4306\n",
        "# Assignment 3\n",
        "# Problem 2\n",
        "\n",
        "def solve_graph_coloring(graph, colors):\n",
        "    color_assignment = {}  # A dictionary to remember which color each vertex gets\n",
        "\n",
        "    # We'll go through each vertex one by one\n",
        "    for vertex in graph:\n",
        "        available_colors = set(colors)  # Start with all colors available for the current vertex\n",
        "\n",
        "        # Check what colors the neighbors have and take those off the available list\n",
        "        for neighbor in graph[vertex]:\n",
        "            if neighbor in color_assignment:\n",
        "                available_colors.discard(color_assignment[neighbor])\n",
        "\n",
        "        # Alright, let's pick the first available color for this vertex\n",
        "        if available_colors:\n",
        "            color_assignment[vertex] = available_colors.pop()\n",
        "\n",
        "    # returns the colors assignment\n",
        "    return color_assignment\n",
        "\n",
        "# Let's set up a simple graph and a palette of colors\n",
        "graph = {\n",
        "    'A': ['B', 'C', 'D'],\n",
        "    'B': ['A', 'C'],\n",
        "    'C': ['A', 'B', 'D'],\n",
        "    'D': ['A', 'C']\n",
        "}\n",
        "\n",
        "colors = ['Red', 'Green', 'Blue', 'Yellow']\n",
        "result_coloring = solve_graph_coloring(graph, colors)\n",
        "\n",
        "# Print results\n",
        "print(\"Vertex Color Assignment:\")\n",
        "for vertex, color in result_coloring.items():\n",
        "    print(f\"{vertex}: {color}\")\n"
      ],
      "metadata": {
        "colab": {
          "base_uri": "https://localhost:8080/"
        },
        "id": "-n96YdAnW4Kh",
        "outputId": "4927830c-6a93-4829-dafe-a030750a3c74"
      },
      "execution_count": 3,
      "outputs": [
        {
          "output_type": "stream",
          "name": "stdout",
          "text": [
            "Vertex Color Assignment:\n",
            "A: Yellow\n",
            "B: Red\n",
            "C: Blue\n",
            "D: Red\n"
          ]
        }
      ]
    }
  ]
}